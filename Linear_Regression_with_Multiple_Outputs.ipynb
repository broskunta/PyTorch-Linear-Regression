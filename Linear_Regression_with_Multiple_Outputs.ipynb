{
  "nbformat": 4,
  "nbformat_minor": 0,
  "metadata": {
    "colab": {
      "provenance": [],
      "authorship_tag": "ABX9TyOgAvN6fDy3FuKRYBHdMjlg",
      "include_colab_link": true
    },
    "kernelspec": {
      "name": "python3",
      "display_name": "Python 3"
    },
    "language_info": {
      "name": "python"
    }
  },
  "cells": [
    {
      "cell_type": "markdown",
      "metadata": {
        "id": "view-in-github",
        "colab_type": "text"
      },
      "source": [
        "<a href=\"https://colab.research.google.com/github/broskunta/PyTorch-Linear-Regression/blob/main/Linear_Regression_with_Multiple_Outputs.ipynb\" target=\"_parent\"><img src=\"https://colab.research.google.com/assets/colab-badge.svg\" alt=\"Open In Colab\"/></a>"
      ]
    },
    {
      "cell_type": "markdown",
      "source": [
        "### Linear Regression with Multiple Outputs."
      ],
      "metadata": {
        "id": "Q3zewBz1C7_H"
      }
    },
    {
      "cell_type": "markdown",
      "source": [
        "Preparation"
      ],
      "metadata": {
        "id": "i0gCI6gWDF-4"
      }
    },
    {
      "cell_type": "code",
      "execution_count": 20,
      "metadata": {
        "id": "2yCK7Y9r9e6Y"
      },
      "outputs": [],
      "source": [
        "# Import the libraries we need for this lab\n",
        "\n",
        "from torch import nn,optim\n",
        "import torch\n",
        "import numpy as np\n",
        "import matplotlib.pyplot as plt\n",
        "\n",
        "from mpl_toolkits.mplot3d import Axes3D\n",
        "from torch.utils.data import Dataset, DataLoader"
      ]
    },
    {
      "cell_type": "code",
      "source": [
        "# set randon seed\n",
        "torch.manual_seed(1)"
      ],
      "metadata": {
        "colab": {
          "base_uri": "https://localhost:8080/"
        },
        "id": "UHXyFcL3Dc76",
        "outputId": "a5b6048f-e608-475b-99d1-00a7404a570c"
      },
      "execution_count": 3,
      "outputs": [
        {
          "output_type": "execute_result",
          "data": {
            "text/plain": [
              "<torch._C.Generator at 0x78f8316d7650>"
            ]
          },
          "metadata": {},
          "execution_count": 3
        }
      ]
    },
    {
      "cell_type": "code",
      "source": [
        "# The function for plotting 2D\n",
        "\n",
        "# The function for plotting 2D\n",
        "\n",
        "def Plot_2D_Plane(model, dataset, n=0):\n",
        "    w1 = model.state_dict()['linear.weight'].numpy()[0][0]\n",
        "    w2 = model.state_dict()['linear.weight'].numpy()[0][1]\n",
        "    b = model.state_dict()['linear.bias'].numpy()\n",
        "\n",
        "    # Data\n",
        "    x1 = data_set.x[:, 0].view(-1, 1).numpy()\n",
        "    x2 = data_set.x[:, 1].view(-1, 1).numpy()\n",
        "    y = data_set.y.numpy()\n",
        "\n",
        "    # Make plane\n",
        "    X, Y = np.meshgrid(np.arange(x1.min(), x1.max(), 0.05), np.arange(x2.min(), x2.max(), 0.05))\n",
        "    yhat = w1 * X + w2 * Y + b\n",
        "\n",
        "    # Plotting\n",
        "    fig = plt.figure()\n",
        "    ax = fig.gca(projection='3d')\n",
        "\n",
        "    ax.plot(x1[:, 0], x2[:, 0], y[:, 0],'ro', label='y') # Scatter plot\n",
        "\n",
        "    ax.plot_surface(X, Y, yhat) # Plane plot\n",
        "\n",
        "    ax.set_xlabel('x1 ')\n",
        "    ax.set_ylabel('x2 ')\n",
        "    ax.set_zlabel('y')\n",
        "    plt.title('estimated plane iteration:' + str(n))\n",
        "    ax.legend()\n",
        "\n",
        "    plt.show()"
      ],
      "metadata": {
        "id": "eYzglXVEDncf"
      },
      "execution_count": 19,
      "outputs": []
    },
    {
      "cell_type": "markdown",
      "source": [
        "Make some Data\n"
      ],
      "metadata": {
        "id": "7oIxt353Dsxm"
      }
    },
    {
      "cell_type": "code",
      "source": [
        "# Create a 2D dataset\n",
        "\n",
        "class Data2D(Dataset):\n",
        "\n",
        "    # Constructor\n",
        "    def __init__(self):\n",
        "        self.x = torch.zeros(20, 2)\n",
        "        self.x[:, 0] = torch.arange(-1, 1, 0.1)\n",
        "        self.x[:, 1] = torch.arange(-1, 1, 0.1)\n",
        "        self.w = torch.tensor([[1.0], [1.0]])\n",
        "        self.b = 1\n",
        "        self.f = torch.mm(self.x, self.w) + self.b\n",
        "        self.y = self.f + 0.1 * torch.randn((self.x.shape[0],1))\n",
        "        self.len = self.x.shape[0]\n",
        "\n",
        "    # Getter\n",
        "    def __getitem__(self, index):\n",
        "        return self.x[index], self.y[index]\n",
        "\n",
        "    # Get Length\n",
        "    def __len__(self):\n",
        "        return self.len"
      ],
      "metadata": {
        "id": "yy1tJ67HDqSN"
      },
      "execution_count": 5,
      "outputs": []
    },
    {
      "cell_type": "code",
      "source": [
        "# create the dataset object\n",
        "data_set = Data2D()"
      ],
      "metadata": {
        "id": "BjHQ6xmlDxIn"
      },
      "execution_count": 6,
      "outputs": []
    },
    {
      "cell_type": "markdown",
      "source": [
        "### Create the model, optimizer and total cost function"
      ],
      "metadata": {
        "id": "BJere3R-D29w"
      }
    },
    {
      "cell_type": "code",
      "source": [
        "# Create a customized linear\n",
        "\n",
        "class linear_regression(nn.Module):\n",
        "\n",
        "    # Constructor\n",
        "    def __init__(self, input_size, output_size):\n",
        "        super(linear_regression, self).__init__()\n",
        "        self.linear = nn.Linear(input_size, output_size)\n",
        "\n",
        "    # Prediction\n",
        "    def forward(self, x):\n",
        "        yhat = self.linear(x)\n",
        "        return yhat"
      ],
      "metadata": {
        "id": "5UxdWIEYD08F"
      },
      "execution_count": 7,
      "outputs": []
    },
    {
      "cell_type": "code",
      "source": [
        "# Create the linear regression model and print the parameters\n",
        "\n",
        "model = linear_regression(2,1)\n",
        "print(\"The parameters: \", list(model.parameters()))"
      ],
      "metadata": {
        "colab": {
          "base_uri": "https://localhost:8080/"
        },
        "id": "ajivW1xaEAL0",
        "outputId": "422ef3d5-ed73-4b60-b90d-b18fc05f08e7"
      },
      "execution_count": 8,
      "outputs": [
        {
          "output_type": "stream",
          "name": "stdout",
          "text": [
            "The parameters:  [Parameter containing:\n",
            "tensor([[ 0.6209, -0.1178]], requires_grad=True), Parameter containing:\n",
            "tensor([0.3026], requires_grad=True)]\n"
          ]
        }
      ]
    },
    {
      "cell_type": "markdown",
      "source": [
        "Create an optimizer object. Set the learning rate to 0.1. Don't forget to enter the model parameters in the constructor."
      ],
      "metadata": {
        "id": "_HrABJ4PEO2_"
      }
    },
    {
      "cell_type": "code",
      "source": [
        "# create the optimizer\n",
        "optimizer = optim.SGD(model.parameters(), lr = 0.1)"
      ],
      "metadata": {
        "id": "ri76X2v3ECyh"
      },
      "execution_count": 9,
      "outputs": []
    },
    {
      "cell_type": "code",
      "source": [
        "# create cost function\n",
        "criterion = nn.MSELoss()"
      ],
      "metadata": {
        "id": "lmKUYOnkEX-C"
      },
      "execution_count": 10,
      "outputs": []
    },
    {
      "cell_type": "code",
      "source": [
        "# create the data loader\n",
        "train_loader = DataLoader(dataset=data_set, batch_size = 2)"
      ],
      "metadata": {
        "id": "gOFmFyxtEfB0"
      },
      "execution_count": 11,
      "outputs": []
    },
    {
      "cell_type": "markdown",
      "source": [
        "### Train the model via Mini-Batch Gradient Descent"
      ],
      "metadata": {
        "id": "MAFIWFNaErdG"
      }
    },
    {
      "cell_type": "code",
      "source": [
        "# create a list to store the loss\n"
      ],
      "metadata": {
        "id": "N0JzDIn-EqN4"
      },
      "execution_count": 12,
      "outputs": []
    },
    {
      "cell_type": "code",
      "source": [
        "# Train the model\n",
        "\n",
        "LOSS = []\n",
        "print(\"Before Training: \")\n",
        "#Plot_2D_Plane(model, data_set)\n",
        "epochs = 100\n",
        "\n",
        "def train_model(epochs):\n",
        "    for epoch in range(epochs):\n",
        "        for x,y in train_loader:\n",
        "            yhat = model(x)\n",
        "            loss = criterion(yhat, y)\n",
        "            LOSS.append(loss.item())\n",
        "            optimizer.zero_grad()\n",
        "            loss.backward()\n",
        "            optimizer.step()\n",
        "train_model(epochs)\n",
        "print(\"After Training: \")\n",
        "#Plot_2D_Plane(model, data_set, epochs)"
      ],
      "metadata": {
        "colab": {
          "base_uri": "https://localhost:8080/"
        },
        "id": "Ihop7gVyE2na",
        "outputId": "4acedb39-aa60-4fac-f601-c7321a078adc"
      },
      "execution_count": 22,
      "outputs": [
        {
          "output_type": "stream",
          "name": "stdout",
          "text": [
            "Before Training: \n",
            "After Training: \n"
          ]
        }
      ]
    },
    {
      "cell_type": "code",
      "source": [
        "# Plot out the Loss and iteration diagram\n",
        "\n",
        "plt.plot(LOSS)\n",
        "plt.xlabel(\"Iterations \")\n",
        "plt.ylabel(\"Cost/total loss \")"
      ],
      "metadata": {
        "colab": {
          "base_uri": "https://localhost:8080/",
          "height": 466
        },
        "id": "X0fTX-WOFDXZ",
        "outputId": "43085eb7-1f3e-4ae0-9bf6-8ce317c9ad85"
      },
      "execution_count": 23,
      "outputs": [
        {
          "output_type": "execute_result",
          "data": {
            "text/plain": [
              "Text(0, 0.5, 'Cost/total loss ')"
            ]
          },
          "metadata": {},
          "execution_count": 23
        },
        {
          "output_type": "display_data",
          "data": {
            "text/plain": [
              "<Figure size 640x480 with 1 Axes>"
            ],
            "image/png": "[encoded data removed]"
          },
          "metadata": {}
        }
      ]
    },
    {
      "cell_type": "markdown",
      "source": [
        "Practice"
      ],
      "metadata": {
        "id": "rAIoO0LQG9yG"
      }
    },
    {
      "cell_type": "markdown",
      "source": [
        "Create a new model1. Train the model with a batch size 30 and learning rate 0.1, store the loss or total cost in a list LOSS1, and plot the results."
      ],
      "metadata": {
        "id": "8sn-Y-cYHAuA"
      }
    },
    {
      "cell_type": "code",
      "source": [
        "\n",
        "data_set = Data2D()\n",
        "#create data loader\n",
        "train_loader = DataLoader(dataset=data_set, batch_size= 30)\n",
        "#create model\n",
        "model1 = linear_regression(2,1)\n",
        "# create the optimizer\n",
        "optimizer = optim.SGD(model1.parameters(), lr = 0.1)\n"
      ],
      "metadata": {
        "id": "yg0FfDxtG4at"
      },
      "execution_count": 47,
      "outputs": []
    },
    {
      "cell_type": "code",
      "source": [
        "# define the training function\n",
        "\n",
        "# create a list to store theloss\n",
        "LOSS1 = []"
      ],
      "metadata": {
        "id": "XzvRzhQfHiHO"
      },
      "execution_count": 48,
      "outputs": []
    },
    {
      "cell_type": "code",
      "source": [
        "# define the function\n",
        "epoch = 100\n",
        "\n",
        "def train_model(epochs):\n",
        "    #loop\n",
        "    for epoch in range(epochs):\n",
        "        for x,y in train_loader:\n",
        "            #make prediction\n",
        "            yhat = model1(x)\n",
        "            # calculate the loss\n",
        "            loss = criterion(yhat, y)\n",
        "            LOSS1.append(loss.item())\n",
        "            #zero the grads\n",
        "            optimizer.zero_grad()\n",
        "            #backpass\n",
        "            loss.backward()\n",
        "            #update parameters\n",
        "            optimizer.step()"
      ],
      "metadata": {
        "id": "dXPbR-HJHqbY"
      },
      "execution_count": 49,
      "outputs": []
    },
    {
      "cell_type": "code",
      "source": [
        "train_model(epochs)"
      ],
      "metadata": {
        "id": "1A_7AUM-H_VU"
      },
      "execution_count": 50,
      "outputs": []
    },
    {
      "cell_type": "code",
      "source": [
        "\n",
        "plt.plot(LOSS1)\n",
        "plt.xlabel(\"iterations \")\n",
        "plt.ylabel(\"Cost/total loss \")"
      ],
      "metadata": {
        "colab": {
          "base_uri": "https://localhost:8080/",
          "height": 466
        },
        "id": "dpxP6BZ9IBrr",
        "outputId": "2508617a-b7f7-4e7f-b0ad-df6b3d057135"
      },
      "execution_count": 51,
      "outputs": [
        {
          "output_type": "execute_result",
          "data": {
            "text/plain": [
              "Text(0, 0.5, 'Cost/total loss ')"
            ]
          },
          "metadata": {},
          "execution_count": 51
        },
        {
          "output_type": "display_data",
          "data": {
            "text/plain": [
              "<Figure size 640x480 with 1 Axes>"
            ],
            "image/png": "[encoded data removed]"
          },
          "metadata": {}
        }
      ]
    },
    {
      "cell_type": "code",
      "source": [],
      "metadata": {
        "colab": {
          "base_uri": "https://localhost:8080/",
          "height": 469
        },
        "id": "rlSVV0hqIJyV",
        "outputId": "fe604bee-f323-408c-e241-bfc2af097646"
      },
      "execution_count": 46,
      "outputs": [
        {
          "output_type": "execute_result",
          "data": {
            "text/plain": [
              "Text(0, 0.5, 'Cost/total loss ')"
            ]
          },
          "metadata": {},
          "execution_count": 46
        },
        {
          "output_type": "display_data",
          "data": {
            "text/plain": [
              "<Figure size 640x480 with 1 Axes>"
            ],
            "image/png": "[encoded data removed]"
          },
          "metadata": {}
        }
      ]
    },
    {
      "cell_type": "code",
      "source": [
        "torch.manual_seed(2)\n",
        "\n",
        "validation_data = Data2D()\n",
        "Y = validation_data.y\n",
        "X = validation_data.x\n",
        "\n"
      ],
      "metadata": {
        "id": "PO4qUWL6I89p"
      },
      "execution_count": 52,
      "outputs": []
    },
    {
      "cell_type": "code",
      "source": [
        "train_loader = DataLoader(dataset=validation_data, batch_size= 30)\n",
        "#create model\n",
        "model1 = linear_regression(2,1)\n",
        "# create the optimizer\n",
        "optimizer = optim.SGD(model1.parameters(), lr = 0.1)"
      ],
      "metadata": {
        "id": "7jsqTCU3Jmub"
      },
      "execution_count": 56,
      "outputs": []
    },
    {
      "cell_type": "code",
      "source": [
        "LOSS1 = []\n",
        "\n",
        "# define the function\n",
        "epoch = 100\n",
        "\n",
        "def train_model(epochs):\n",
        "    #loop\n",
        "    for epoch in range(epochs):\n",
        "        for X,Y in train_loader:\n",
        "            #make prediction\n",
        "            yhat = model1(X)\n",
        "            # calculate the loss\n",
        "            loss = criterion(yhat, Y)\n",
        "            LOSS1.append(loss.item())\n",
        "            #zero the grads\n",
        "            optimizer.zero_grad()\n",
        "            #backpass\n",
        "            loss.backward()\n",
        "            #update parameters\n",
        "            optimizer.step()"
      ],
      "metadata": {
        "id": "fBFAeH96Jtdn"
      },
      "execution_count": 57,
      "outputs": []
    },
    {
      "cell_type": "code",
      "source": [
        "train_model(epochs)\n",
        "print(\"Training Complete\")\n",
        "plt.plot(LOSS1)\n",
        "plt.xlabel(\"iterations \")\n",
        "plt.ylabel(\"Cost/total loss \")"
      ],
      "metadata": {
        "colab": {
          "base_uri": "https://localhost:8080/",
          "height": 484
        },
        "id": "BXtW_tuKJ1FX",
        "outputId": "53fc6499-da70-4dc0-e515-2f291167572b"
      },
      "execution_count": 58,
      "outputs": [
        {
          "output_type": "stream",
          "name": "stdout",
          "text": [
            "Training Complete\n"
          ]
        },
        {
          "output_type": "execute_result",
          "data": {
            "text/plain": [
              "Text(0, 0.5, 'Cost/total loss ')"
            ]
          },
          "metadata": {},
          "execution_count": 58
        },
        {
          "output_type": "display_data",
          "data": {
            "text/plain": [
              "<Figure size 640x480 with 1 Axes>"
            ],
            "image/png": "[encoded data removed]"
          },
          "metadata": {}
        }
      ]
    },
    {
      "cell_type": "code",
      "source": [
        "print(\"total loss or cost for model: \",criterion(model(X),Y))\n",
        "print(\"total loss or cost for model: \",criterion(model1(X),Y))"
      ],
      "metadata": {
        "colab": {
          "base_uri": "https://localhost:8080/"
        },
        "id": "NK98gEBbJ8Vj",
        "outputId": "9b53e150-2765-483e-abb6-74869a2b3af6"
      },
      "execution_count": 59,
      "outputs": [
        {
          "output_type": "stream",
          "name": "stdout",
          "text": [
            "total loss or cost for model:  tensor(0.0108, grad_fn=<MseLossBackward0>)\n",
            "total loss or cost for model:  tensor(0.0078, grad_fn=<MseLossBackward0>)\n"
          ]
        }
      ]
    },
    {
      "cell_type": "code",
      "source": [
        "X=torch.tensor([[1.0,1.0,1],[1.0,2.0,1],[1.0,3.0,1],[1.0,3.0,1]])\n",
        "\n",
        "model=nn.Linear(3,1)\n",
        "\n",
        "yhat=model(X)"
      ],
      "metadata": {
        "id": "KZy9mgh9KPNa"
      },
      "execution_count": 60,
      "outputs": []
    },
    {
      "cell_type": "code",
      "source": [
        "print(yhat)"
      ],
      "metadata": {
        "colab": {
          "base_uri": "https://localhost:8080/"
        },
        "id": "bzmSaa2JLyGB",
        "outputId": "adc78538-7985-46eb-f7a2-91fdfab32833"
      },
      "execution_count": 61,
      "outputs": [
        {
          "output_type": "stream",
          "name": "stdout",
          "text": [
            "tensor([[1.2723],\n",
            "        [1.4795],\n",
            "        [1.6868],\n",
            "        [1.6868]], grad_fn=<AddmmBackward0>)\n"
          ]
        }
      ]
    },
    {
      "cell_type": "code",
      "source": [],
      "metadata": {
        "id": "ZiL5aWKiL0aY"
      },
      "execution_count": null,
      "outputs": []
    }
  ]
}